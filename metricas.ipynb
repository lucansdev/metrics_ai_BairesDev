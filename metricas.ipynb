{
  "nbformat": 4,
  "nbformat_minor": 0,
  "metadata": {
    "colab": {
      "provenance": [],
      "authorship_tag": "ABX9TyNccWIx75CcbKgFbWKItAWA",
      "include_colab_link": true
    },
    "kernelspec": {
      "name": "python3",
      "display_name": "Python 3"
    },
    "language_info": {
      "name": "python"
    }
  },
  "cells": [
    {
      "cell_type": "markdown",
      "metadata": {
        "id": "view-in-github",
        "colab_type": "text"
      },
      "source": [
        "<a href=\"https://colab.research.google.com/github/lucansdev/metrics_ai_BairesDev/blob/main/metricas.ipynb\" target=\"_parent\"><img src=\"https://colab.research.google.com/assets/colab-badge.svg\" alt=\"Open In Colab\"/></a>"
      ]
    },
    {
      "cell_type": "code",
      "execution_count": 22,
      "metadata": {
        "id": "pa1Sz7RRS2-7"
      },
      "outputs": [],
      "source": [
        "import matplotlib.pyplot as plt\n",
        "from sklearn.metrics import confusion_matrix, accuracy_score, precision_score, recall_score, f1_score,ConfusionMatrixDisplay"
      ]
    },
    {
      "cell_type": "code",
      "source": [
        "def matriz_de_confusao(y_true,y_predict,classes):\n",
        "  cm = confusion_matrix(y_true,y_predict)\n",
        "  disp = ConfusionMatrixDisplay(confusion_matrix=cm, display_labels=classes)\n",
        "  disp.plot(cmap=plt.cm.Blues)\n",
        "  plt.show()\n",
        "\n",
        "def acuracia(y_true_,y_predict):\n",
        "  return accuracy_score(y_true,y_predict)\n",
        "\n",
        "def especificidade(y_true,y_predict):\n",
        "  matriz = confusion_matrix(y_true,y_predict)\n",
        "  vn = matriz[1,1]\n",
        "  fp = matriz[1,0]\n",
        "  return vn / (vn+ fp)\n",
        "\n",
        "def precisao(y_true,y_predict):\n",
        "  return precision_score(y_true,y_predict)\n",
        "\n",
        "def sensibilidade(y_true,y_predict):\n",
        "  return recall_score(y_true,y_predict)\n",
        "\n",
        "def f1(y_true,y_predict):\n",
        "  return f1_score(y_true,y_predict)\n",
        "\n"
      ],
      "metadata": {
        "id": "N97h-2WBYOAI"
      },
      "execution_count": 27,
      "outputs": []
    },
    {
      "cell_type": "code",
      "source": [
        "if __name__ == \"__main__\":\n",
        "  y_true = [0,1,0,1,1,1,0]\n",
        "  y_predict = [1,1,0,1,1,0,0]\n",
        "  classes = [0,1]\n",
        "  #####################################################################\n",
        "  matriz_de_confusao(y_true,y_predict,classes)\n",
        "  print(\"especificidade:\",especificidade(y_true,y_predict))\n",
        "  print(\"acuracia:\",acuracia(y_true,y_predict))\n",
        "  print(\"precisao:\",precisao(y_true,y_predict))\n",
        "  print(\"sensibilidade:\",sensibilidade(y_true,y_predict))\n",
        "  print(\"f1_score:\",f1(y_true,y_predict))"
      ],
      "metadata": {
        "colab": {
          "base_uri": "https://localhost:8080/",
          "height": 542
        },
        "id": "TOkTXLNaVUHM",
        "outputId": "0790ca7f-d948-4cd3-fb8b-864a023dca9d"
      },
      "execution_count": 33,
      "outputs": [
        {
          "output_type": "display_data",
          "data": {
            "text/plain": [
              "<Figure size 640x480 with 2 Axes>"
            ],
            "image/png": "[encoded data removed]"
          },
          "metadata": {}
        },
        {
          "output_type": "stream",
          "name": "stdout",
          "text": [
            "especificidade: 0.75\n",
            "acuracia: 0.7142857142857143\n",
            "precisao: 0.75\n",
            "sensibilidade: 0.75\n",
            "f1_score: 0.75\n"
          ]
        }
      ]
    }
  ]
}